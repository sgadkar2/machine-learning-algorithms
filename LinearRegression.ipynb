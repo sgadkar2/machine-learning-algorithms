{
  "nbformat": 4,
  "nbformat_minor": 0,
  "metadata": {
    "colab": {
      "provenance": [],
      "authorship_tag": "ABX9TyNSmun/khMd33iBEGPbQ5o8",
      "include_colab_link": true
    },
    "kernelspec": {
      "name": "python3",
      "display_name": "Python 3"
    },
    "language_info": {
      "name": "python"
    }
  },
  "cells": [
    {
      "cell_type": "markdown",
      "metadata": {
        "id": "view-in-github",
        "colab_type": "text"
      },
      "source": [
        "<a href=\"https://colab.research.google.com/github/sgadkar2/machine-learning-algorithms/blob/main/ML_Assignment_1.ipynb\" target=\"_parent\"><img src=\"https://colab.research.google.com/assets/colab-badge.svg\" alt=\"Open In Colab\"/></a>"
      ]
    },
    {
      "cell_type": "markdown",
      "source": [
        "### **Importing libraries**"
      ],
      "metadata": {
        "id": "trWJTU5V955P"
      }
    },
    {
      "cell_type": "code",
      "execution_count": null,
      "metadata": {
        "id": "1wec9PKqGfO3"
      },
      "outputs": [],
      "source": [
        "import numpy as np\n",
        "import torch\n",
        "import matplotlib.pyplot as plt"
      ]
    },
    {
      "cell_type": "markdown",
      "source": [
        "### **Generating Input**"
      ],
      "metadata": {
        "id": "UBTkTbNg9_WK"
      }
    },
    {
      "cell_type": "code",
      "source": [
        "x = torch.cat((torch.arange(1992,2012), torch.arange(2019,2024)), -1)\n",
        "y_min = torch.tensor([8730, 8781, 9449, 10224, 10575, 11070,\n",
        "                      11485, 11845, 11580, 11960, 12565, 13645,\n",
        "                      14575, 14610, 14450, 13970, 14490, 16395,\n",
        "                      17820, 18160, 24000, 24110, 24820, 25980, 27400])\n",
        "y_max = torch.tensor([14840, 16535, 18328, 19571, 20295, 20325,\n",
        "                      19695, 19435, 19785, 24335, 25010, 25450,\n",
        "                      26015, 26795, 26670, 24425, 24350, 25805,\n",
        "                      25800, 26070, 38565, 38675, 39035, 39730, 40945])"
      ],
      "metadata": {
        "id": "hKqDOPcZG1LB"
      },
      "execution_count": null,
      "outputs": []
    },
    {
      "cell_type": "markdown",
      "source": [
        "### **Computing output**"
      ],
      "metadata": {
        "id": "w5AZU0fK-X7U"
      }
    },
    {
      "cell_type": "code",
      "source": [
        "def compute_output(x, theta_0, theta_1):\n",
        "  return theta_0 + torch.mul(theta_1, x)"
      ],
      "metadata": {
        "id": "GNcFeY1QDjfd"
      },
      "execution_count": null,
      "outputs": []
    },
    {
      "cell_type": "markdown",
      "source": [
        "### **Computing total loss**"
      ],
      "metadata": {
        "id": "24N8VgnDus9D"
      }
    },
    {
      "cell_type": "code",
      "source": [
        "def compute_loss(x, y, theta_0, theta_1):\n",
        "\n",
        "  m = x.shape[0]\n",
        "  loss = 0\n",
        "  f_x = compute_output(x, theta_0, theta_1)\n",
        "\n",
        "  for i in range(m):\n",
        "\n",
        "    loss = loss + (f_x[i] - y[i])**2\n",
        "\n",
        "  total_loss = loss / (2 * m)\n",
        "\n",
        "  return total_loss"
      ],
      "metadata": {
        "id": "o_8-p3kVJaYb"
      },
      "execution_count": null,
      "outputs": []
    },
    {
      "cell_type": "markdown",
      "source": [
        "### **Computing gradient descent**"
      ],
      "metadata": {
        "id": "KLMLskEau_mA"
      }
    },
    {
      "cell_type": "code",
      "source": [
        "def gradient_descent(x, y, theta_0_initial, theta_1_initial, alpha):\n",
        "  iterations = 100\n",
        "  total_loss = np.empty(100)\n",
        "  m = x.shape[0]\n",
        "  theta_0 = theta_0_initial\n",
        "  theta_1 = theta_1_initial\n",
        "\n",
        "  for i in range(iterations):\n",
        "\n",
        "    f_x = compute_output(x, theta_0, theta_1)\n",
        "    total_loss[i] = compute_loss(x, y, theta_0, theta_1)\n",
        "\n",
        "    print(f\"After Iteration {i+1} loss is {total_loss[i]}\")\n",
        "\n",
        "    dj_dtheta_0 = 0\n",
        "    dj_dtheta_1 = 0\n",
        "\n",
        "    for i_2 in range(m):\n",
        "      dj_dtheta_0 = dj_dtheta_0 + f_x[i_2] - y[i_2]\n",
        "      dj_dtheta_1 = dj_dtheta_1 + (f_x[i_2] - y[i_2]) * x[i_2]\n",
        "\n",
        "    dj_dtheta_0 = dj_dtheta_0 / m\n",
        "    dj_dtheta_1 = dj_dtheta_1 / m\n",
        "\n",
        "    theta_0 = theta_0 - (alpha * dj_dtheta_0)\n",
        "    theta_1 = theta_1 - (alpha * dj_dtheta_1)\n",
        "\n",
        "  return theta_0, theta_1, total_loss"
      ],
      "metadata": {
        "id": "yPmxalYSNaYA"
      },
      "execution_count": null,
      "outputs": []
    },
    {
      "cell_type": "markdown",
      "source": [
        "### **Running linear regression for Minimum car price**"
      ],
      "metadata": {
        "id": "IP7G83lDvF_6"
      }
    },
    {
      "cell_type": "code",
      "source": [
        "#Invoking linear regression for minimum car price\n",
        "theta_0_min = 2500\n",
        "theta_1_min = 5\n",
        "alpha = 0.0000001\n",
        "theta_0_min, theta_1_min, total_loss_min = gradient_descent(x, y_min, theta_0_min, theta_1_min, alpha)\n"
      ],
      "metadata": {
        "id": "xLQfOFnVPb1U",
        "colab": {
          "base_uri": "https://localhost:8080/"
        },
        "outputId": "4b74f540-a4cb-4b3d-dcf8-ab93ec9691fd"
      },
      "execution_count": null,
      "outputs": [
        {
          "output_type": "stream",
          "name": "stdout",
          "text": [
            "After Iteration 1 loss is 19048172.0\n",
            "After Iteration 2 loss is 16518636.0\n",
            "After Iteration 3 loss is 15614582.0\n",
            "After Iteration 4 loss is 15291475.0\n",
            "After Iteration 5 loss is 15175995.0\n",
            "After Iteration 6 loss is 15134725.0\n",
            "After Iteration 7 loss is 15119974.0\n",
            "After Iteration 8 loss is 15114703.0\n",
            "After Iteration 9 loss is 15112819.0\n",
            "After Iteration 10 loss is 15112145.0\n",
            "After Iteration 11 loss is 15111904.0\n",
            "After Iteration 12 loss is 15111818.0\n",
            "After Iteration 13 loss is 15111786.0\n",
            "After Iteration 14 loss is 15111777.0\n",
            "After Iteration 15 loss is 15111773.0\n",
            "After Iteration 16 loss is 15111771.0\n",
            "After Iteration 17 loss is 15111771.0\n",
            "After Iteration 18 loss is 15111770.0\n",
            "After Iteration 19 loss is 15111770.0\n",
            "After Iteration 20 loss is 15111770.0\n",
            "After Iteration 21 loss is 15111770.0\n",
            "After Iteration 22 loss is 15111770.0\n",
            "After Iteration 23 loss is 15111771.0\n",
            "After Iteration 24 loss is 15111772.0\n",
            "After Iteration 25 loss is 15111770.0\n",
            "After Iteration 26 loss is 15111771.0\n",
            "After Iteration 27 loss is 15111770.0\n",
            "After Iteration 28 loss is 15111770.0\n",
            "After Iteration 29 loss is 15111771.0\n",
            "After Iteration 30 loss is 15111771.0\n",
            "After Iteration 31 loss is 15111771.0\n",
            "After Iteration 32 loss is 15111771.0\n",
            "After Iteration 33 loss is 15111771.0\n",
            "After Iteration 34 loss is 15111771.0\n",
            "After Iteration 35 loss is 15111771.0\n",
            "After Iteration 36 loss is 15111771.0\n",
            "After Iteration 37 loss is 15111771.0\n",
            "After Iteration 38 loss is 15111771.0\n",
            "After Iteration 39 loss is 15111771.0\n",
            "After Iteration 40 loss is 15111771.0\n",
            "After Iteration 41 loss is 15111771.0\n",
            "After Iteration 42 loss is 15111771.0\n",
            "After Iteration 43 loss is 15111771.0\n",
            "After Iteration 44 loss is 15111771.0\n",
            "After Iteration 45 loss is 15111771.0\n",
            "After Iteration 46 loss is 15111771.0\n",
            "After Iteration 47 loss is 15111771.0\n",
            "After Iteration 48 loss is 15111771.0\n",
            "After Iteration 49 loss is 15111771.0\n",
            "After Iteration 50 loss is 15111771.0\n",
            "After Iteration 51 loss is 15111771.0\n",
            "After Iteration 52 loss is 15111771.0\n",
            "After Iteration 53 loss is 15111771.0\n",
            "After Iteration 54 loss is 15111771.0\n",
            "After Iteration 55 loss is 15111771.0\n",
            "After Iteration 56 loss is 15111771.0\n",
            "After Iteration 57 loss is 15111771.0\n",
            "After Iteration 58 loss is 15111771.0\n",
            "After Iteration 59 loss is 15111771.0\n",
            "After Iteration 60 loss is 15111771.0\n",
            "After Iteration 61 loss is 15111771.0\n",
            "After Iteration 62 loss is 15111771.0\n",
            "After Iteration 63 loss is 15111771.0\n",
            "After Iteration 64 loss is 15111771.0\n",
            "After Iteration 65 loss is 15111771.0\n",
            "After Iteration 66 loss is 15111771.0\n",
            "After Iteration 67 loss is 15111771.0\n",
            "After Iteration 68 loss is 15111771.0\n",
            "After Iteration 69 loss is 15111771.0\n",
            "After Iteration 70 loss is 15111771.0\n",
            "After Iteration 71 loss is 15111771.0\n",
            "After Iteration 72 loss is 15111771.0\n",
            "After Iteration 73 loss is 15111771.0\n",
            "After Iteration 74 loss is 15111771.0\n",
            "After Iteration 75 loss is 15111771.0\n",
            "After Iteration 76 loss is 15111771.0\n",
            "After Iteration 77 loss is 15111771.0\n",
            "After Iteration 78 loss is 15111771.0\n",
            "After Iteration 79 loss is 15111771.0\n",
            "After Iteration 80 loss is 15111771.0\n",
            "After Iteration 81 loss is 15111771.0\n",
            "After Iteration 82 loss is 15111771.0\n",
            "After Iteration 83 loss is 15111771.0\n",
            "After Iteration 84 loss is 15111771.0\n",
            "After Iteration 85 loss is 15111771.0\n",
            "After Iteration 86 loss is 15111771.0\n",
            "After Iteration 87 loss is 15111771.0\n",
            "After Iteration 88 loss is 15111771.0\n",
            "After Iteration 89 loss is 15111771.0\n",
            "After Iteration 90 loss is 15111771.0\n",
            "After Iteration 91 loss is 15111771.0\n",
            "After Iteration 92 loss is 15111771.0\n",
            "After Iteration 93 loss is 15111771.0\n",
            "After Iteration 94 loss is 15111771.0\n",
            "After Iteration 95 loss is 15111771.0\n",
            "After Iteration 96 loss is 15111771.0\n",
            "After Iteration 97 loss is 15111771.0\n",
            "After Iteration 98 loss is 15111771.0\n",
            "After Iteration 99 loss is 15111771.0\n",
            "After Iteration 100 loss is 15111771.0\n"
          ]
        }
      ]
    },
    {
      "cell_type": "markdown",
      "source": [
        "### **Running linear regression for Maximum car price**"
      ],
      "metadata": {
        "id": "qPd5p4I_vOg8"
      }
    },
    {
      "cell_type": "code",
      "source": [
        "#Invoking linear regression for Maximum car price\n",
        "theta_0_max = 6000\n",
        "theta_1_max = 10\n",
        "alpha = 0.0000001\n",
        "theta_0_max, theta_1_max, total_loss_max = gradient_descent(x, y_max, theta_0_max, theta_1_max, alpha)"
      ],
      "metadata": {
        "id": "X_qqW0cnLIDd"
      },
      "execution_count": null,
      "outputs": []
    },
    {
      "cell_type": "markdown",
      "source": [
        "### **Plotting graph for total loss of minimum costs and iteration number**"
      ],
      "metadata": {
        "id": "1cNK3eylvgLa"
      }
    },
    {
      "cell_type": "code",
      "source": [
        "plt.plot(np.arange(0,100), total_loss_min[0:100])\n",
        "plt.title(\"LOSS for Min Cost vs. Iteration\");\n",
        "plt.ylabel('Loss')\n",
        "plt.xlabel('Iteration')\n",
        "\n",
        "plt.show()"
      ],
      "metadata": {
        "colab": {
          "base_uri": "https://localhost:8080/",
          "height": 295
        },
        "id": "r8qr-JcD2QbB",
        "outputId": "04f55fe6-ebb9-4a6e-c165-2cd7f1d80d3a"
      },
      "execution_count": null,
      "outputs": [
        {
          "output_type": "display_data",
          "data": {
            "text/plain": [
              "<Figure size 432x288 with 1 Axes>"
            ],
            "image/png": "[encoded data removed]"
          },
          "metadata": {
            "needs_background": "light"
          }
        }
      ]
    },
    {
      "cell_type": "markdown",
      "source": [
        "### **Plotting graph for total loss of maximum costs and iteration number**"
      ],
      "metadata": {
        "id": "k0CQdJnnwDmC"
      }
    },
    {
      "cell_type": "code",
      "source": [
        "plt.plot(np.arange(0,100), total_loss_max[0:100])\n",
        "plt.title(\"LOSS for Max Cost vs. Iteration\");\n",
        "plt.ylabel('Loss')\n",
        "plt.xlabel('Iteration')\n",
        "\n",
        "plt.show()"
      ],
      "metadata": {
        "colab": {
          "base_uri": "https://localhost:8080/",
          "height": 295
        },
        "id": "AGW_14eH5bAL",
        "outputId": "a0281760-5573-4c4b-f341-75f74ec4e06b"
      },
      "execution_count": null,
      "outputs": [
        {
          "output_type": "display_data",
          "data": {
            "text/plain": [
              "<Figure size 432x288 with 1 Axes>"
            ],
            "image/png": "[encoded data removed]"
          },
          "metadata": {
            "needs_background": "light"
          }
        }
      ]
    },
    {
      "cell_type": "markdown",
      "source": [
        "### **Printing final Theta values for min and max Costs**"
      ],
      "metadata": {
        "id": "JowMQwHXw55y"
      }
    },
    {
      "cell_type": "code",
      "source": [
        "print(f'Final theta_0 value for Min price is {theta_0_min}')\n",
        "print(f'Final theta_1 value for Min price is {theta_1_min}')\n",
        "print(f'Final theta_0 value for Max price is {theta_0_max}')\n",
        "print(f'Final theta_1 value for Max price is {theta_1_max}')"
      ],
      "metadata": {
        "colab": {
          "base_uri": "https://localhost:8080/"
        },
        "id": "a50VG877SheB",
        "outputId": "45e08a71-c439-48d8-ad52-e04556c1fdd3"
      },
      "execution_count": null,
      "outputs": [
        {
          "output_type": "stream",
          "name": "stdout",
          "text": [
            "Final theta_0 value for Min price is 2500.00048828125\n",
            "Final theta_1 value for Min price is 6.399132251739502\n",
            "Final theta_0 value for Max price is 6000.0\n",
            "Final theta_1 value for Max price is 9.919625282287598\n"
          ]
        }
      ]
    },
    {
      "cell_type": "markdown",
      "source": [
        "### Predicting Min and Max car prices for year 2012-2018"
      ],
      "metadata": {
        "id": "WfsrlIa-x4PM"
      }
    },
    {
      "cell_type": "code",
      "source": [
        "x_prediction = torch.arange(2012, 2019)\n",
        "m = x_prediction.shape[0]\n",
        "y_min_hat = np.empty(m)\n",
        "y_max_hat = np.empty(m)\n",
        "\n",
        "for i in range(m):\n",
        "  y_min_hat[i] = theta_0_min + theta_1_min * x_prediction[i]\n",
        "  y_max_hat[i] = theta_0_max + theta_1_max * x_prediction[i]\n",
        "\n",
        "print(f'The predicted min car prices for year 2012 to 2018 are : {y_min_hat}')\n",
        "print(f'The predicted max car prices for year 2012 to 2018 are : {y_max_hat}')\n"
      ],
      "metadata": {
        "colab": {
          "base_uri": "https://localhost:8080/"
        },
        "id": "LBYvEAXMObb-",
        "outputId": "26b8abc9-eacd-4d89-d667-e4b515dc4d3a"
      },
      "execution_count": null,
      "outputs": [
        {
          "output_type": "stream",
          "name": "stdout",
          "text": [
            "The predicted min car prices for year 2012 to 2018 are : [15375.0546875  15381.453125   15387.85351562 15394.25195312\n",
            " 15400.65039062 15407.05078125 15413.44921875]\n",
            "The predicted max car prices for year 2012 to 2018 are : [25958.28515625 25968.20507812 25978.125      25988.04492188\n",
            " 25997.96484375 26007.88476562 26017.8046875 ]\n"
          ]
        }
      ]
    },
    {
      "cell_type": "markdown",
      "source": [
        "### **Plotting graph for year and min price of car**"
      ],
      "metadata": {
        "id": "6ZDCLzVG94A8"
      }
    },
    {
      "cell_type": "code",
      "source": [
        "x_graph = torch.cat((torch.arange(1992,2012), torch.arange(2012,2019), torch.arange(2019,2024)), -1)\n",
        "y1_min = torch.tensor([8730, 8781, 9449, 10224, 10575, 11070,\n",
        "                      11485, 11845, 11580, 11960, 12565, 13645,\n",
        "                      14575, 14610, 14450, 13970, 14490, 16395,\n",
        "                      17820, 18160,])\n",
        "y2_min = torch.tensor([24000, 24110, 24820, 25980, 27400])\n",
        "y_graph_min = torch.cat((y1_min, torch.from_numpy(y_min_hat), y2_min))\n",
        "\n",
        "plt.plot(x_graph, y_graph_min)\n",
        "plt.title(\"Year vs. Min Price\");\n",
        "plt.ylabel('Min price')\n",
        "plt.xlabel('Year')\n",
        "\n",
        "plt.show()\n"
      ],
      "metadata": {
        "colab": {
          "base_uri": "https://localhost:8080/",
          "height": 295
        },
        "id": "MDJ_mq5QQBOt",
        "outputId": "ad42179a-49b0-4ab7-e19f-7d862135175a"
      },
      "execution_count": null,
      "outputs": [
        {
          "output_type": "display_data",
          "data": {
            "text/plain": [
              "<Figure size 432x288 with 1 Axes>"
            ],
            "image/png": "[encoded data removed]"
          },
          "metadata": {
            "needs_background": "light"
          }
        }
      ]
    },
    {
      "cell_type": "markdown",
      "source": [
        "### **Plotting graph for year and max price of car**"
      ],
      "metadata": {
        "id": "eJ9r6_AEyc-N"
      }
    },
    {
      "cell_type": "code",
      "source": [
        "y1_max = torch.tensor([14840, 16535, 18328, 19571, 20295, 20325,\n",
        "                      19695, 19435, 19785, 24335, 25010, 25450,\n",
        "                      26015, 26795, 26670, 24425, 24350, 25805,\n",
        "                      25800, 26070])\n",
        "y2_max = torch.tensor([38565, 38675, 39035, 39730, 40945])\n",
        "y_graph_max = torch.cat((y1_max, torch.from_numpy(y_max_hat), y2_max))\n",
        "\n",
        "plt.plot(x_graph, y_graph_max)\n",
        "plt.title(\"Year vs. Max Price preditction\");\n",
        "plt.ylabel('Predicted Max price')\n",
        "plt.xlabel('Year')\n",
        "\n",
        "plt.show()"
      ],
      "metadata": {
        "colab": {
          "base_uri": "https://localhost:8080/",
          "height": 295
        },
        "id": "yVP-iRbEyeHo",
        "outputId": "c5c86d98-a550-4793-d6ba-b94ee8be6da3"
      },
      "execution_count": null,
      "outputs": [
        {
          "output_type": "display_data",
          "data": {
            "text/plain": [
              "<Figure size 432x288 with 1 Axes>"
            ],
            "image/png": "[encoded data removed]"
          },
          "metadata": {
            "needs_background": "light"
          }
        }
      ]
    },
    {
      "cell_type": "markdown",
      "source": [
        "### **Feature Normalization**"
      ],
      "metadata": {
        "id": "b5wBpHRA8r7N"
      }
    },
    {
      "cell_type": "code",
      "source": [
        "# Feature Normalization\n",
        "x = torch.cat((torch.arange(1992.,2012.), torch.arange(2019.,2024.)), -1)\n",
        "mean = torch.Tensor.mean(x)\n",
        "std = torch.Tensor.std(x)\n",
        "\n",
        "x_normalized = (x - mean)/std\n",
        "print(x_normalized)"
      ],
      "metadata": {
        "colab": {
          "base_uri": "https://localhost:8080/"
        },
        "id": "naWPqU9ySKHR",
        "outputId": "8ec86460-3c69-47df-d096-a96dc629f89b"
      },
      "execution_count": null,
      "outputs": [
        {
          "output_type": "stream",
          "name": "stdout",
          "text": [
            "tensor([-1.4009, -1.2963, -1.1918, -1.0872, -0.9827, -0.8782, -0.7736, -0.6691,\n",
            "        -0.5645, -0.4600, -0.3554, -0.2509, -0.1464, -0.0418,  0.0627,  0.1673,\n",
            "         0.2718,  0.3763,  0.4809,  0.5854,  1.4218,  1.5263,  1.6308,  1.7354,\n",
            "         1.8399])\n"
          ]
        }
      ]
    },
    {
      "cell_type": "markdown",
      "source": [
        "### **Using dynamic learning rate for gradient descent**"
      ],
      "metadata": {
        "id": "sKF7Oete8yV4"
      }
    },
    {
      "cell_type": "code",
      "source": [
        "def gradient_descent_with_dynamic_learning_rate(x, y, theta_0, theta_1, alpha):\n",
        "  iterations = 100\n",
        "  total_loss = np.empty(100)\n",
        "  m = x.shape[0]\n",
        "  alpha_initial = alpha\n",
        "\n",
        "  for i in range(iterations):\n",
        "\n",
        "    f_x = compute_output(x, theta_0, theta_1)\n",
        "    total_loss[i] = compute_loss(x, y, theta_0, theta_1)\n",
        "\n",
        "    print(f\"After Iteration {i+1} loss is {total_loss[i]}\")\n",
        "\n",
        "    dj_dtheta_0 = 0\n",
        "    dj_dtheta_1 = 0\n",
        "\n",
        "    for i_2 in range(m):\n",
        "      dj_dtheta_0 = dj_dtheta_0 + f_x[i_2] - y[i_2]\n",
        "      dj_dtheta_1 = dj_dtheta_1 + (f_x[i_2] - y[i_2]) * x[i_2]\n",
        "\n",
        "    dj_dtheta_0 = dj_dtheta_0 / m\n",
        "    dj_dtheta_1 = dj_dtheta_1 / m\n",
        "\n",
        "\n",
        "    theta_0 = theta_0 - (alpha * dj_dtheta_0)\n",
        "    theta_1 = theta_1 - (alpha * dj_dtheta_1)\n",
        "\n",
        "    alpha = (alpha_initial * 20.0)/(i + 1 + 20.0)\n",
        "\n",
        "\n",
        "  return theta_0, theta_1, total_loss"
      ],
      "metadata": {
        "id": "8kyfLCXfVMcf"
      },
      "execution_count": null,
      "outputs": []
    },
    {
      "cell_type": "markdown",
      "source": [
        "### **Running linear regression for min car price after feature scaling**"
      ],
      "metadata": {
        "id": "QVBR5YxQ9Gq6"
      }
    },
    {
      "cell_type": "code",
      "source": [
        "#Invoking linear regression for minimum car price\n",
        "theta_0_min = 10000\n",
        "theta_1_min = 3500\n",
        "alpha = 1.25\n",
        "theta_0_min, theta_1_min, total_loss_min = gradient_descent_with_dynamic_learning_rate(x_normalized, y_min, theta_0_min, theta_1_min, alpha)"
      ],
      "metadata": {
        "colab": {
          "base_uri": "https://localhost:8080/"
        },
        "id": "WGLmaDWaY5Vw",
        "outputId": "ce0cf242-cc9c-497a-ae19-6b1a6e87da02"
      },
      "execution_count": null,
      "outputs": [
        {
          "output_type": "stream",
          "name": "stdout",
          "text": [
            "After Iteration 1 loss is 16661183.0\n",
            "After Iteration 2 loss is 1466967.875\n",
            "After Iteration 3 loss is 537401.4375\n",
            "After Iteration 4 loss is 504379.4375\n",
            "After Iteration 5 loss is 503776.15625\n",
            "After Iteration 6 loss is 503771.59375\n",
            "After Iteration 7 loss is 503771.53125\n",
            "After Iteration 8 loss is 503771.53125\n",
            "After Iteration 9 loss is 503771.53125\n",
            "After Iteration 10 loss is 503771.53125\n",
            "After Iteration 11 loss is 503771.53125\n",
            "After Iteration 12 loss is 503771.53125\n",
            "After Iteration 13 loss is 503771.53125\n",
            "After Iteration 14 loss is 503771.53125\n",
            "After Iteration 15 loss is 503771.53125\n",
            "After Iteration 16 loss is 503771.53125\n",
            "After Iteration 17 loss is 503771.53125\n",
            "After Iteration 18 loss is 503771.53125\n",
            "After Iteration 19 loss is 503771.53125\n",
            "After Iteration 20 loss is 503771.53125\n",
            "After Iteration 21 loss is 503771.53125\n",
            "After Iteration 22 loss is 503771.53125\n",
            "After Iteration 23 loss is 503771.53125\n",
            "After Iteration 24 loss is 503771.53125\n",
            "After Iteration 25 loss is 503771.53125\n",
            "After Iteration 26 loss is 503771.53125\n",
            "After Iteration 27 loss is 503771.53125\n",
            "After Iteration 28 loss is 503771.53125\n",
            "After Iteration 29 loss is 503771.53125\n",
            "After Iteration 30 loss is 503771.53125\n",
            "After Iteration 31 loss is 503771.53125\n",
            "After Iteration 32 loss is 503771.53125\n",
            "After Iteration 33 loss is 503771.53125\n",
            "After Iteration 34 loss is 503771.53125\n",
            "After Iteration 35 loss is 503771.53125\n",
            "After Iteration 36 loss is 503771.53125\n",
            "After Iteration 37 loss is 503771.53125\n",
            "After Iteration 38 loss is 503771.53125\n",
            "After Iteration 39 loss is 503771.53125\n",
            "After Iteration 40 loss is 503771.53125\n",
            "After Iteration 41 loss is 503771.53125\n",
            "After Iteration 42 loss is 503771.53125\n",
            "After Iteration 43 loss is 503771.53125\n",
            "After Iteration 44 loss is 503771.53125\n",
            "After Iteration 45 loss is 503771.53125\n",
            "After Iteration 46 loss is 503771.53125\n",
            "After Iteration 47 loss is 503771.53125\n",
            "After Iteration 48 loss is 503771.53125\n",
            "After Iteration 49 loss is 503771.53125\n",
            "After Iteration 50 loss is 503771.53125\n",
            "After Iteration 51 loss is 503771.53125\n",
            "After Iteration 52 loss is 503771.53125\n",
            "After Iteration 53 loss is 503771.53125\n",
            "After Iteration 54 loss is 503771.53125\n",
            "After Iteration 55 loss is 503771.53125\n",
            "After Iteration 56 loss is 503771.53125\n",
            "After Iteration 57 loss is 503771.53125\n",
            "After Iteration 58 loss is 503771.53125\n",
            "After Iteration 59 loss is 503771.53125\n",
            "After Iteration 60 loss is 503771.53125\n",
            "After Iteration 61 loss is 503771.53125\n",
            "After Iteration 62 loss is 503771.53125\n",
            "After Iteration 63 loss is 503771.53125\n",
            "After Iteration 64 loss is 503771.53125\n",
            "After Iteration 65 loss is 503771.53125\n",
            "After Iteration 66 loss is 503771.53125\n",
            "After Iteration 67 loss is 503771.53125\n",
            "After Iteration 68 loss is 503771.53125\n",
            "After Iteration 69 loss is 503771.53125\n",
            "After Iteration 70 loss is 503771.53125\n",
            "After Iteration 71 loss is 503771.53125\n",
            "After Iteration 72 loss is 503771.53125\n",
            "After Iteration 73 loss is 503771.53125\n",
            "After Iteration 74 loss is 503771.53125\n",
            "After Iteration 75 loss is 503771.53125\n",
            "After Iteration 76 loss is 503771.53125\n",
            "After Iteration 77 loss is 503771.53125\n",
            "After Iteration 78 loss is 503771.53125\n",
            "After Iteration 79 loss is 503771.53125\n",
            "After Iteration 80 loss is 503771.53125\n",
            "After Iteration 81 loss is 503771.53125\n",
            "After Iteration 82 loss is 503771.53125\n",
            "After Iteration 83 loss is 503771.53125\n",
            "After Iteration 84 loss is 503771.53125\n",
            "After Iteration 85 loss is 503771.53125\n",
            "After Iteration 86 loss is 503771.53125\n",
            "After Iteration 87 loss is 503771.53125\n",
            "After Iteration 88 loss is 503771.53125\n",
            "After Iteration 89 loss is 503771.53125\n",
            "After Iteration 90 loss is 503771.53125\n",
            "After Iteration 91 loss is 503771.53125\n",
            "After Iteration 92 loss is 503771.53125\n",
            "After Iteration 93 loss is 503771.53125\n",
            "After Iteration 94 loss is 503771.53125\n",
            "After Iteration 95 loss is 503771.53125\n",
            "After Iteration 96 loss is 503771.53125\n",
            "After Iteration 97 loss is 503771.53125\n",
            "After Iteration 98 loss is 503771.53125\n",
            "After Iteration 99 loss is 503771.53125\n",
            "After Iteration 100 loss is 503771.53125\n"
          ]
        }
      ]
    },
    {
      "cell_type": "markdown",
      "source": [
        "### **Running linear regression on max car price after feature scaling**"
      ],
      "metadata": {
        "id": "M9HfWEoy9S2V"
      }
    },
    {
      "cell_type": "code",
      "source": [
        "#Invoking linear regression for Maximum car price\n",
        "theta_0_max = 20000\n",
        "theta_1_max = 2000\n",
        "alpha = 1.25\n",
        "theta_0_max, theta_1_max, total_loss_max = gradient_descent_with_dynamic_learning_rate(x_normalized, y_max, theta_0_max, theta_1_max, alpha)"
      ],
      "metadata": {
        "colab": {
          "base_uri": "https://localhost:8080/"
        },
        "id": "tNC4rkbDZD6d",
        "outputId": "b70e77cb-4a44-40d8-fa2b-1f31cb5861c2"
      },
      "execution_count": null,
      "outputs": [
        {
          "output_type": "stream",
          "name": "stdout",
          "text": [
            "After Iteration 1 loss is 33092378.0\n",
            "After Iteration 2 loss is 3558102.5\n",
            "After Iteration 3 loss is 1975573.75\n",
            "After Iteration 4 loss is 1926040.125\n",
            "After Iteration 5 loss is 1925227.875\n",
            "After Iteration 6 loss is 1925222.5\n",
            "After Iteration 7 loss is 1925222.125\n",
            "After Iteration 8 loss is 1925222.375\n",
            "After Iteration 9 loss is 1925222.125\n",
            "After Iteration 10 loss is 1925222.375\n",
            "After Iteration 11 loss is 1925222.125\n",
            "After Iteration 12 loss is 1925222.375\n",
            "After Iteration 13 loss is 1925222.125\n",
            "After Iteration 14 loss is 1925222.375\n",
            "After Iteration 15 loss is 1925222.125\n",
            "After Iteration 16 loss is 1925222.375\n",
            "After Iteration 17 loss is 1925222.125\n",
            "After Iteration 18 loss is 1925222.375\n",
            "After Iteration 19 loss is 1925222.125\n",
            "After Iteration 20 loss is 1925222.375\n",
            "After Iteration 21 loss is 1925222.375\n",
            "After Iteration 22 loss is 1925222.375\n",
            "After Iteration 23 loss is 1925222.375\n",
            "After Iteration 24 loss is 1925222.375\n",
            "After Iteration 25 loss is 1925222.375\n",
            "After Iteration 26 loss is 1925222.375\n",
            "After Iteration 27 loss is 1925222.375\n",
            "After Iteration 28 loss is 1925222.375\n",
            "After Iteration 29 loss is 1925222.375\n",
            "After Iteration 30 loss is 1925222.375\n",
            "After Iteration 31 loss is 1925222.375\n",
            "After Iteration 32 loss is 1925222.375\n",
            "After Iteration 33 loss is 1925222.375\n",
            "After Iteration 34 loss is 1925222.375\n",
            "After Iteration 35 loss is 1925222.375\n",
            "After Iteration 36 loss is 1925222.375\n",
            "After Iteration 37 loss is 1925222.375\n",
            "After Iteration 38 loss is 1925222.375\n",
            "After Iteration 39 loss is 1925222.375\n",
            "After Iteration 40 loss is 1925222.375\n",
            "After Iteration 41 loss is 1925222.375\n",
            "After Iteration 42 loss is 1925222.375\n",
            "After Iteration 43 loss is 1925222.375\n",
            "After Iteration 44 loss is 1925222.375\n",
            "After Iteration 45 loss is 1925222.375\n",
            "After Iteration 46 loss is 1925222.375\n",
            "After Iteration 47 loss is 1925222.375\n",
            "After Iteration 48 loss is 1925222.375\n",
            "After Iteration 49 loss is 1925222.375\n",
            "After Iteration 50 loss is 1925222.375\n",
            "After Iteration 51 loss is 1925222.375\n",
            "After Iteration 52 loss is 1925222.375\n",
            "After Iteration 53 loss is 1925222.375\n",
            "After Iteration 54 loss is 1925222.375\n",
            "After Iteration 55 loss is 1925222.375\n",
            "After Iteration 56 loss is 1925222.375\n",
            "After Iteration 57 loss is 1925222.375\n",
            "After Iteration 58 loss is 1925222.375\n",
            "After Iteration 59 loss is 1925222.375\n",
            "After Iteration 60 loss is 1925222.375\n",
            "After Iteration 61 loss is 1925222.375\n",
            "After Iteration 62 loss is 1925222.375\n",
            "After Iteration 63 loss is 1925222.375\n",
            "After Iteration 64 loss is 1925222.375\n",
            "After Iteration 65 loss is 1925222.375\n",
            "After Iteration 66 loss is 1925222.375\n",
            "After Iteration 67 loss is 1925222.375\n",
            "After Iteration 68 loss is 1925222.375\n",
            "After Iteration 69 loss is 1925222.375\n",
            "After Iteration 70 loss is 1925222.375\n",
            "After Iteration 71 loss is 1925222.375\n",
            "After Iteration 72 loss is 1925222.375\n",
            "After Iteration 73 loss is 1925222.375\n",
            "After Iteration 74 loss is 1925222.375\n",
            "After Iteration 75 loss is 1925222.375\n",
            "After Iteration 76 loss is 1925222.375\n",
            "After Iteration 77 loss is 1925222.375\n",
            "After Iteration 78 loss is 1925222.375\n",
            "After Iteration 79 loss is 1925222.375\n",
            "After Iteration 80 loss is 1925222.375\n",
            "After Iteration 81 loss is 1925222.375\n",
            "After Iteration 82 loss is 1925222.375\n",
            "After Iteration 83 loss is 1925222.375\n",
            "After Iteration 84 loss is 1925222.375\n",
            "After Iteration 85 loss is 1925222.375\n",
            "After Iteration 86 loss is 1925222.375\n",
            "After Iteration 87 loss is 1925222.375\n",
            "After Iteration 88 loss is 1925222.375\n",
            "After Iteration 89 loss is 1925222.375\n",
            "After Iteration 90 loss is 1925222.375\n",
            "After Iteration 91 loss is 1925222.375\n",
            "After Iteration 92 loss is 1925222.375\n",
            "After Iteration 93 loss is 1925222.375\n",
            "After Iteration 94 loss is 1925222.375\n",
            "After Iteration 95 loss is 1925222.375\n",
            "After Iteration 96 loss is 1925222.375\n",
            "After Iteration 97 loss is 1925222.375\n",
            "After Iteration 98 loss is 1925222.375\n",
            "After Iteration 99 loss is 1925222.375\n",
            "After Iteration 100 loss is 1925222.375\n"
          ]
        }
      ]
    },
    {
      "cell_type": "markdown",
      "source": [
        "### **The total loss has decreased for Min price as well as Max price after using feature scaling and dynamic learning rate.**"
      ],
      "metadata": {
        "id": "8mt0jI0QQh6u"
      }
    },
    {
      "cell_type": "markdown",
      "source": [
        "### **Plotting graph of Loss for min cost and iteration number after feature scaling**\n",
        "\n",
        "\n"
      ],
      "metadata": {
        "id": "jYfYqLcP9a3G"
      }
    },
    {
      "cell_type": "code",
      "source": [
        "plt.plot(np.arange(0,100), total_loss_min[0:100])\n",
        "plt.title(\"LOSS for Min Cost vs. Iteration\");\n",
        "plt.ylabel('Loss')\n",
        "plt.xlabel('Iteration')\n",
        "\n",
        "plt.show()"
      ],
      "metadata": {
        "colab": {
          "base_uri": "https://localhost:8080/",
          "height": 295
        },
        "id": "NExskZkjnCGx",
        "outputId": "6a53bcb9-33db-452d-fbf0-52418e7a7832"
      },
      "execution_count": null,
      "outputs": [
        {
          "output_type": "display_data",
          "data": {
            "text/plain": [
              "<Figure size 432x288 with 1 Axes>"
            ],
            "image/png": "[encoded data removed]"
          },
          "metadata": {
            "needs_background": "light"
          }
        }
      ]
    },
    {
      "cell_type": "markdown",
      "source": [
        "### **Plotting graph of Loss for max cost and iteration number after feature scaling**"
      ],
      "metadata": {
        "id": "qyViQp2t-B4f"
      }
    },
    {
      "cell_type": "code",
      "source": [
        "plt.plot(np.arange(0,100), total_loss_max[0:100])\n",
        "plt.title(\"LOSS for Max Cost vs. Iteration\");\n",
        "plt.ylabel('Loss')\n",
        "plt.xlabel('Iteration')\n",
        "\n",
        "plt.show()"
      ],
      "metadata": {
        "colab": {
          "base_uri": "https://localhost:8080/",
          "height": 295
        },
        "id": "-XTAvCK6nMTu",
        "outputId": "3f9021cf-9f4b-4f32-fcaf-6a6e17a765dd"
      },
      "execution_count": null,
      "outputs": [
        {
          "output_type": "display_data",
          "data": {
            "text/plain": [
              "<Figure size 432x288 with 1 Axes>"
            ],
            "image/png": "[encoded data removed]"
          },
          "metadata": {
            "needs_background": "light"
          }
        }
      ]
    },
    {
      "cell_type": "markdown",
      "source": [
        "### **Printing final theta values for min and max price after feature scaling**"
      ],
      "metadata": {
        "id": "44akLoil-GaE"
      }
    },
    {
      "cell_type": "code",
      "source": [
        "print(f'Final theta_0 value for Min price is {theta_0_min}')\n",
        "print(f'Final theta_1 value for Min price is {theta_1_min}')\n",
        "print(f'Final theta_0 value for Max price is {theta_0_max}')\n",
        "print(f'Final theta_1 value for Max price is {theta_1_max}')"
      ],
      "metadata": {
        "colab": {
          "base_uri": "https://localhost:8080/"
        },
        "id": "tMvHuOkJnXay",
        "outputId": "62e454ae-5c9d-4e92-fdd9-4fa2b22c7013"
      },
      "execution_count": null,
      "outputs": [
        {
          "output_type": "stream",
          "name": "stdout",
          "text": [
            "Final theta_0 value for Min price is 15307.57421875\n",
            "Final theta_1 value for Min price is 5577.79248046875\n",
            "Final theta_0 value for Max price is 25859.37890625\n",
            "Final theta_1 value for Max price is 7400.82470703125\n"
          ]
        }
      ]
    },
    {
      "cell_type": "markdown",
      "source": [
        "### Predicting Min and Max car prices for year 2012-2018 after feature scaling"
      ],
      "metadata": {
        "id": "GZKGg6yI-khJ"
      }
    },
    {
      "cell_type": "code",
      "source": [
        "x_prediction = torch.arange(2012., 2019.)\n",
        "\n",
        "x_predicted_normalized = (x_prediction - mean)/std\n",
        "\n",
        "m = x_prediction.shape[0]\n",
        "y_min_hat = np.empty(m)\n",
        "y_max_hat = np.empty(m)\n",
        "\n",
        "for i in range(m):\n",
        "  y_min_hat[i] = theta_0_min + theta_1_min * x_predicted_normalized[i]\n",
        "  y_max_hat[i] = theta_0_max + theta_1_max * x_predicted_normalized[i]\n",
        "\n",
        "print(f'The predicted min car prices for year 2012 to 2018 are : {y_min_hat}')\n",
        "print(f'The predicted max car prices for year 2012 to 2018 are : {y_max_hat}')"
      ],
      "metadata": {
        "colab": {
          "base_uri": "https://localhost:8080/"
        },
        "id": "qB20sUDwnejR",
        "outputId": "318a3df1-dfe0-4075-878e-78760da88816"
      },
      "execution_count": null,
      "outputs": [
        {
          "output_type": "stream",
          "name": "stdout",
          "text": [
            "The predicted min car prices for year 2012 to 2018 are : [19156.09765625 19739.20898438 20322.3203125  20905.43359375\n",
            " 21488.54492188 22071.65625    22654.76953125]\n",
            "The predicted max car prices for year 2012 to 2018 are : [30965.74414062 31739.43945312 32513.1328125  33286.828125\n",
            " 34060.5234375  34834.21875    35607.9140625 ]\n"
          ]
        }
      ]
    },
    {
      "cell_type": "markdown",
      "source": [
        "### **Plotting graph for year and min price of car after feature scaling**"
      ],
      "metadata": {
        "id": "YEGEuvLY-2k5"
      }
    },
    {
      "cell_type": "code",
      "source": [
        "x_graph = torch.cat((torch.arange(1992,2012), torch.arange(2012,2019), torch.arange(2019,2024)), -1)\n",
        "y1_min = torch.tensor([8730, 8781, 9449, 10224, 10575, 11070,\n",
        "                      11485, 11845, 11580, 11960, 12565, 13645,\n",
        "                      14575, 14610, 14450, 13970, 14490, 16395,\n",
        "                      17820, 18160])\n",
        "y2_min = torch.tensor([24000, 24110, 24820, 25980, 27400])\n",
        "y_graph_min = torch.cat((y1_min, torch.from_numpy(y_min_hat), y2_min))\n",
        "\n",
        "plt.plot(x_graph, y_graph_min)\n",
        "plt.title(\"Year vs. Min Price\");\n",
        "plt.ylabel('Min price')\n",
        "plt.xlabel('Year')\n",
        "\n",
        "plt.show()\n"
      ],
      "metadata": {
        "colab": {
          "base_uri": "https://localhost:8080/",
          "height": 295
        },
        "id": "F-XSFRh-oFOj",
        "outputId": "5fa074ec-3608-436d-92e6-d28b42f8dd10"
      },
      "execution_count": null,
      "outputs": [
        {
          "output_type": "display_data",
          "data": {
            "text/plain": [
              "<Figure size 432x288 with 1 Axes>"
            ],
            "image/png": "[encoded data removed]"
          },
          "metadata": {
            "needs_background": "light"
          }
        }
      ]
    },
    {
      "cell_type": "markdown",
      "source": [
        "### **Plotting graph for year and max price of car after feature scaling**"
      ],
      "metadata": {
        "id": "bjn-EYZT-_37"
      }
    },
    {
      "cell_type": "code",
      "source": [
        "y1_max = torch.tensor([14840, 16535, 18328, 19571, 20295, 20325,\n",
        "                      19695, 19435, 19785, 24335, 25010, 25450,\n",
        "                      26015, 26795, 26670, 24425, 24350, 25805,\n",
        "                      25800, 26070])\n",
        "y2_max = torch.tensor([38565, 38675, 39035, 39730, 40945])\n",
        "y_graph_max = torch.cat((y1_max, torch.from_numpy(y_max_hat), y2_max))\n",
        "plt.plot(x_graph, y_graph_max)\n",
        "plt.title(\"Year vs. Max Price\");\n",
        "plt.ylabel('Max price')\n",
        "plt.xlabel('Year')\n",
        "\n",
        "plt.show()"
      ],
      "metadata": {
        "colab": {
          "base_uri": "https://localhost:8080/",
          "height": 295
        },
        "id": "7xc0hhOxob2t",
        "outputId": "b1f94594-0eb5-461c-c10d-2837b923072a"
      },
      "execution_count": null,
      "outputs": [
        {
          "output_type": "display_data",
          "data": {
            "text/plain": [
              "<Figure size 432x288 with 1 Axes>"
            ],
            "image/png": "[encoded data removed]"
          },
          "metadata": {
            "needs_background": "light"
          }
        }
      ]
    },
    {
      "cell_type": "markdown",
      "source": [
        "### **Summary :**\n",
        "\n",
        "-> The price range of next generation ranger predicted by my program for year 2024 is 26,153 - 40,250\n",
        "\n",
        "-> The final values of theta after training using normalized feature and dynamic learning rate are:\n",
        "\n",
        "Theta_0 for Min price = 15307.57421875\n",
        "\n",
        "Theta_1 for Min price = 5577.79248046875\n",
        "\n",
        "Theta_0 for Max price = 25859.37890625\n",
        "\n",
        "Theta_1 for Max price = 7400.82470703125\n",
        "\n",
        "-> The model is predicting better after using Feature scaling and dynamic learning rate\n",
        "\n",
        "-> According to the prediction of model the price of next generation ranger has not increased by much, therefore, i will buy the ranger"
      ],
      "metadata": {
        "id": "aLiCsJQgA24X"
      }
    },
    {
      "cell_type": "markdown",
      "source": [
        "### **Google Colab link : https://colab.research.google.com/drive/1WVKXRYqsiHCR1llyaqo9D02AB4rH9szs?usp=share_link**"
      ],
      "metadata": {
        "id": "gpV3fbx_JfiO"
      }
    }
  ]
}
