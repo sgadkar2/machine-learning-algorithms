{
  "nbformat": 4,
  "nbformat_minor": 0,
  "metadata": {
    "colab": {
      "provenance": [],
      "authorship_tag": "ABX9TyMP/NoZgWKHU9ygUwDmdz7Y",
      "include_colab_link": true
    },
    "kernelspec": {
      "name": "python3",
      "display_name": "Python 3"
    },
    "language_info": {
      "name": "python"
    }
  },
  "cells": [
    {
      "cell_type": "markdown",
      "metadata": {
        "id": "view-in-github",
        "colab_type": "text"
      },
      "source": [
        "<a href=\"https://colab.research.google.com/github/sgadkar2/machine-learning-algorithms/blob/main/LogisticRegression.ipynb\" target=\"_parent\"><img src=\"https://colab.research.google.com/assets/colab-badge.svg\" alt=\"Open In Colab\"/></a>"
      ]
    },
    {
      "cell_type": "markdown",
      "source": [
        "### **Importing Libraries**"
      ],
      "metadata": {
        "id": "-nK0Lp-Ijltl"
      }
    },
    {
      "cell_type": "code",
      "execution_count": null,
      "metadata": {
        "id": "tbH5j_Quji3C"
      },
      "outputs": [],
      "source": [
        "import numpy as np\n",
        "import torch\n",
        "import matplotlib.pyplot as plt"
      ]
    },
    {
      "cell_type": "markdown",
      "source": [
        "### **Generating Input**"
      ],
      "metadata": {
        "id": "erTK4_HBkm7L"
      }
    },
    {
      "cell_type": "code",
      "source": [
        "petal_length = torch.tensor([1.4,1.4,1.3,1.5,1.4,1.7,1.4,1.5,1.4,1.5,1.5,1.6,1.4,1.1,1.2,1.5,1.3,1.4,\n",
        "                             1.7,1.5,1.7,1.5,1,1.7,1.9,1.6,1.6,1.5,1.4,1.6,1.6,1.5,1.5,1.4,1.5,1.2,1.3,\n",
        "                             1.5,1.3,1.5,1.3,1.3,1.3,1.6,1.9,1.4,1.6,1.4,1.5,1.4,4.7,4.5,4.9,4,4.6,4.5,\n",
        "                             4.7,3.3,4.6,3.9,3.5,4.2,4,4.7,3.6,4.4,4.5,4.1,4.5,3.9,4.8,4,4.9,4.7,4.3,4.4,\n",
        "                             4.8,5,4.5,3.5,3.8,3.7,3.9,5.1,4.5,4.5,4.7,4.4,4.1,4,4.4,4.6,4,3.3,4.2,4.2,4.2,4.3,3,4.1])\n",
        "\n",
        "petal_width = torch.tensor([0.2,0.2,0.2,0.2,0.2,0.4,0.3,0.2,0.2,0.1,0.2,0.2,0.1,0.1,0.2,0.4,0.4,0.3,0.3,0.3,0.2,0.4,0.2,\n",
        "                            0.5,0.2,0.2,0.4,0.2,0.2,0.2,0.2,0.4,0.1,0.2,0.1,0.2,0.2,0.1,0.2,0.2,0.3,0.3,0.2,0.6,0.4,0.3,\n",
        "                            0.2,0.2,0.2,0.2,1.4,1.5,1.5,1.3,1.5,1.3,1.6,1,1.3,1.4,1,1.5,1,1.4,1.3,1.4,1.5,1,1.5,1.1,1.8,\n",
        "                            1.3,1.5,1.2,1.3,1.4,1.4,1.7,1.5,1,1.1,1,1.2,1.6,1.5,1.6,1.5,1.3,1.3,1.3,1.2,1.4,1.2,1,1.3,1.2,1.3,1.3,1.1,1.3])\n",
        "\n",
        "petal_dimensions = torch.column_stack((petal_length, petal_width))\n",
        "\n",
        "flower_type = torch.tensor([0,0,0,0,0,0,0,0,0,0,0,0,0,0,0,0,0,0,0,0,0,0,0,0,0,0,0,0,0,0,0,0,0,0,0,\n",
        "                            0,0,0,0,0,0,0,0,0,0,0,0,0,0,0,1,1,1,1,1,1,1,1,1,1,1,1,1,1,1,1,1,1,1,1,\n",
        "                            1,1,1,1,1,1,1,1,1,1,1,1,1,1,1,1,1,1,1,1,1,1,1,1,1,1,1,1,1,1])\n"
      ],
      "metadata": {
        "id": "igZ7u40iko7j"
      },
      "execution_count": null,
      "outputs": []
    },
    {
      "cell_type": "markdown",
      "source": [
        "### **Plotting graph of petal length and petal width for iris-versicolor and iris-setosa flowers**"
      ],
      "metadata": {
        "id": "r4cjIOXAwo5O"
      }
    },
    {
      "cell_type": "code",
      "source": [
        "positive = flower_type == 1\n",
        "negative = flower_type == 0\n",
        "\n",
        "plt.plot(petal_dimensions[positive, 0], petal_dimensions[positive, 1], 'k+', label='Iris-Versicolor')\n",
        "plt.plot(petal_dimensions[negative, 0], petal_dimensions[negative, 1], 'yo', label='Iris-Setosa')\n",
        "\n",
        "plt.ylabel('Petal Width')\n",
        "plt.xlabel('Petal Length')\n",
        "\n",
        "plt.legend(loc=\"upper right\")\n",
        "\n",
        "plt.show()"
      ],
      "metadata": {
        "colab": {
          "base_uri": "https://localhost:8080/",
          "height": 279
        },
        "id": "Pf48UTX4xJnS",
        "outputId": "eb4daf22-be18-4ed3-c53d-c462c5b64090"
      },
      "execution_count": null,
      "outputs": [
        {
          "output_type": "display_data",
          "data": {
            "text/plain": [
              "<Figure size 432x288 with 1 Axes>"
            ],
            "image/png": "[encoded data removed]"
          },
          "metadata": {
            "needs_background": "light"
          }
        }
      ]
    },
    {
      "cell_type": "markdown",
      "source": [
        "### **Splitting data into 80:20 (80% training data and 20% test data)**"
      ],
      "metadata": {
        "id": "XOfbI5MmybY-"
      }
    },
    {
      "cell_type": "code",
      "source": [
        "index_set_1 = torch.arange(50)\n",
        "\n",
        "train_size = int(0.8 * len(index_set_1))\n",
        "test_size = len(index_set_1) - train_size\n",
        "\n",
        "index_train, index_test = torch.utils.data.random_split(index_set_1, [train_size, test_size])\n",
        "\n",
        "train_dataloader = torch.utils.data.DataLoader(index_train, shuffle=False, batch_size=8)\n",
        "test_dataloader = torch.utils.data.DataLoader(index_test, shuffle=False, batch_size=8)\n",
        "\n",
        "petal_dimensions_train = torch.Tensor([])\n",
        "flower_type_train = torch.Tensor([])\n",
        "\n",
        "for id in train_dataloader:\n",
        "  petal_dimensions_train = torch.cat((petal_dimensions_train, petal_dimensions[id]), dim=0)\n",
        "  flower_type_train = torch.cat((flower_type_train, flower_type[id]), dim=0)\n",
        "\n",
        "petal_dimensions_test = torch.Tensor([])\n",
        "flower_type_test = torch.Tensor([])\n",
        "\n",
        "for id in test_dataloader:\n",
        "  petal_dimensions_test = torch.cat((petal_dimensions_test, petal_dimensions[id]), dim=0)\n",
        "  flower_type_test = torch.cat((flower_type_test, flower_type[id]), dim=0)\n",
        "\n",
        "index_set_2 = torch.arange(50, 100)\n",
        "\n",
        "index_train, index_test = torch.utils.data.random_split(index_set_2, [train_size, test_size])\n",
        "\n",
        "train_dataloader = torch.utils.data.DataLoader(index_train, shuffle=False, batch_size=8)\n",
        "test_dataloader = torch.utils.data.DataLoader(index_test, shuffle=False, batch_size=8)\n",
        "\n",
        "\n",
        "for id in train_dataloader:\n",
        "  petal_dimensions_train = torch.cat((petal_dimensions_train, petal_dimensions[id]), dim=0)\n",
        "  flower_type_train = torch.cat((flower_type_train, flower_type[id]), dim=0)\n",
        "\n",
        "for id in test_dataloader:\n",
        "  petal_dimensions_test = torch.cat((petal_dimensions_test, petal_dimensions[id]), dim=0)\n",
        "  flower_type_test = torch.cat((flower_type_test, flower_type[id]), dim=0)\n"
      ],
      "metadata": {
        "id": "W8SseAhRxMUt"
      },
      "execution_count": null,
      "outputs": []
    },
    {
      "cell_type": "code",
      "source": [
        "print(\"Following is the training data after split\")\n",
        "print(petal_dimensions_train)\n",
        "print(flower_type_train)\n",
        "print(\"Following is the test data after split\")\n",
        "print(petal_dimensions_test)\n",
        "print(flower_type_test)"
      ],
      "metadata": {
        "colab": {
          "base_uri": "https://localhost:8080/"
        },
        "id": "7eCSl34q0IkJ",
        "outputId": "e9fb9274-cfd1-40fe-f80b-cd7337f33a5e"
      },
      "execution_count": null,
      "outputs": [
        {
          "output_type": "stream",
          "name": "stdout",
          "text": [
            "Following is the training data after split\n",
            "tensor([[1.5000, 0.2000],\n",
            "        [1.5000, 0.1000],\n",
            "        [1.2000, 0.2000],\n",
            "        [1.4000, 0.2000],\n",
            "        [1.3000, 0.2000],\n",
            "        [1.2000, 0.2000],\n",
            "        [1.7000, 0.3000],\n",
            "        [1.6000, 0.4000],\n",
            "        [1.3000, 0.3000],\n",
            "        [1.1000, 0.1000],\n",
            "        [1.4000, 0.2000],\n",
            "        [1.0000, 0.2000],\n",
            "        [1.6000, 0.6000],\n",
            "        [1.5000, 0.4000],\n",
            "        [1.6000, 0.2000],\n",
            "        [1.4000, 0.3000],\n",
            "        [1.6000, 0.2000],\n",
            "        [1.7000, 0.4000],\n",
            "        [1.6000, 0.2000],\n",
            "        [1.3000, 0.2000],\n",
            "        [1.5000, 0.2000],\n",
            "        [1.5000, 0.1000],\n",
            "        [1.4000, 0.2000],\n",
            "        [1.4000, 0.3000],\n",
            "        [1.4000, 0.2000],\n",
            "        [1.3000, 0.4000],\n",
            "        [1.5000, 0.1000],\n",
            "        [1.4000, 0.2000],\n",
            "        [1.7000, 0.5000],\n",
            "        [1.3000, 0.2000],\n",
            "        [1.3000, 0.3000],\n",
            "        [1.5000, 0.3000],\n",
            "        [1.5000, 0.2000],\n",
            "        [1.5000, 0.2000],\n",
            "        [1.7000, 0.2000],\n",
            "        [1.4000, 0.2000],\n",
            "        [1.9000, 0.2000],\n",
            "        [1.4000, 0.1000],\n",
            "        [1.3000, 0.2000],\n",
            "        [1.5000, 0.2000],\n",
            "        [4.4000, 1.4000],\n",
            "        [3.8000, 1.1000],\n",
            "        [3.3000, 1.0000],\n",
            "        [4.8000, 1.8000],\n",
            "        [4.4000, 1.4000],\n",
            "        [4.5000, 1.3000],\n",
            "        [4.5000, 1.5000],\n",
            "        [3.9000, 1.4000],\n",
            "        [4.7000, 1.6000],\n",
            "        [4.0000, 1.2000],\n",
            "        [5.1000, 1.6000],\n",
            "        [4.7000, 1.4000],\n",
            "        [4.3000, 1.3000],\n",
            "        [4.0000, 1.3000],\n",
            "        [4.5000, 1.5000],\n",
            "        [4.2000, 1.2000],\n",
            "        [4.6000, 1.3000],\n",
            "        [3.5000, 1.0000],\n",
            "        [4.5000, 1.6000],\n",
            "        [3.7000, 1.0000],\n",
            "        [4.7000, 1.4000],\n",
            "        [3.0000, 1.1000],\n",
            "        [4.9000, 1.5000],\n",
            "        [4.2000, 1.5000],\n",
            "        [4.0000, 1.3000],\n",
            "        [4.3000, 1.3000],\n",
            "        [3.9000, 1.1000],\n",
            "        [5.0000, 1.7000],\n",
            "        [4.1000, 1.3000],\n",
            "        [4.0000, 1.0000],\n",
            "        [4.2000, 1.3000],\n",
            "        [4.4000, 1.3000],\n",
            "        [4.6000, 1.5000],\n",
            "        [4.1000, 1.3000],\n",
            "        [4.5000, 1.5000],\n",
            "        [4.7000, 1.2000],\n",
            "        [3.6000, 1.3000],\n",
            "        [4.5000, 1.5000],\n",
            "        [4.7000, 1.5000],\n",
            "        [4.9000, 1.5000]])\n",
            "tensor([0., 0., 0., 0., 0., 0., 0., 0., 0., 0., 0., 0., 0., 0., 0., 0., 0., 0.,\n",
            "        0., 0., 0., 0., 0., 0., 0., 0., 0., 0., 0., 0., 0., 0., 0., 0., 0., 0.,\n",
            "        0., 0., 0., 0., 1., 1., 1., 1., 1., 1., 1., 1., 1., 1., 1., 1., 1., 1.,\n",
            "        1., 1., 1., 1., 1., 1., 1., 1., 1., 1., 1., 1., 1., 1., 1., 1., 1., 1.,\n",
            "        1., 1., 1., 1., 1., 1., 1., 1.])\n",
            "Following is the test data after split\n",
            "tensor([[1.5000, 0.1000],\n",
            "        [1.6000, 0.2000],\n",
            "        [1.4000, 0.2000],\n",
            "        [1.6000, 0.2000],\n",
            "        [1.5000, 0.2000],\n",
            "        [1.9000, 0.4000],\n",
            "        [1.5000, 0.4000],\n",
            "        [1.4000, 0.2000],\n",
            "        [1.4000, 0.3000],\n",
            "        [1.5000, 0.4000],\n",
            "        [4.6000, 1.4000],\n",
            "        [3.9000, 1.2000],\n",
            "        [3.5000, 1.0000],\n",
            "        [4.1000, 1.0000],\n",
            "        [4.4000, 1.2000],\n",
            "        [4.8000, 1.4000],\n",
            "        [4.5000, 1.5000],\n",
            "        [4.2000, 1.3000],\n",
            "        [4.0000, 1.3000],\n",
            "        [3.3000, 1.0000]])\n",
            "tensor([0., 0., 0., 0., 0., 0., 0., 0., 0., 0., 1., 1., 1., 1., 1., 1., 1., 1.,\n",
            "        1., 1.])\n"
          ]
        }
      ]
    },
    {
      "cell_type": "markdown",
      "source": [
        "### **Computing Output**"
      ],
      "metadata": {
        "id": "J22rrQ6q_sGX"
      }
    },
    {
      "cell_type": "code",
      "source": [
        "def compute_output(x1, x2, b_0, b_1, b_2):\n",
        "  output = b_0 + torch.mul(x1, b_1) + torch.mul(x2, b_2)\n",
        "  return 1/(1 + np.exp(-output))"
      ],
      "metadata": {
        "id": "Op6AWiU97byQ"
      },
      "execution_count": null,
      "outputs": []
    },
    {
      "cell_type": "markdown",
      "source": [
        "### **Computing total loss**"
      ],
      "metadata": {
        "id": "8mJIA-duGnX7"
      }
    },
    {
      "cell_type": "code",
      "source": [
        "def compute_loss(x, y, prediction):\n",
        "\n",
        "  loss = 0\n",
        "\n",
        "  for i in range(len(y)):\n",
        "    loss = loss + ((y[i] - prediction[i]) * prediction[i] * (1 - prediction[i]) * x[i])\n",
        "\n",
        "  return loss"
      ],
      "metadata": {
        "id": "diVPfybK88Pg"
      },
      "execution_count": null,
      "outputs": []
    },
    {
      "cell_type": "markdown",
      "source": [
        "### **Computing Gradient descent**"
      ],
      "metadata": {
        "id": "wvolFwtRXp3o"
      }
    },
    {
      "cell_type": "code",
      "source": [
        "def gradient_descent(x, y, b_0, b_1, b_2, alpha):\n",
        "  iterations = 100\n",
        "  #total_loss = np.empty(100)\n",
        "  m, n = x.shape\n",
        "  prediction = np.empty(m)\n",
        "  predicted_result = np.empty(m)\n",
        "  accuracy = np.empty(iterations)\n",
        "  bias_x = np.ones(m)\n",
        "\n",
        "  for i in range(iterations):\n",
        "\n",
        "    for j in range(m):\n",
        "      prediction[j] = compute_output(x[j][0], x[j][1], b_0, b_1, b_2)\n",
        "\n",
        "      if prediction[j] >= 0.5:\n",
        "        predicted_result[j] = 1\n",
        "      else:\n",
        "        predicted_result[j] = 0\n",
        "\n",
        "    correct_predictions = 0\n",
        "    for k in range(m):\n",
        "       if predicted_result[k] == y[k]:\n",
        "          correct_predictions += 1\n",
        "\n",
        "    accuracy[i] = (correct_predictions * 100) / len(predicted_result)\n",
        "    print(f\"After Iteration {i+1} Accuracy is {accuracy[i]}\")\n",
        "\n",
        "    #updating weigths\n",
        "    b_0 += alpha * compute_loss(bias_x, y, prediction)\n",
        "    b_1 += alpha * compute_loss(x[:, 0], y, prediction)\n",
        "    b_2 += alpha * compute_loss(x[:, 1], y, prediction)\n",
        "\n",
        "  return accuracy, prediction, b_0, b_1, b_2"
      ],
      "metadata": {
        "id": "hqKVkNN4XT3D"
      },
      "execution_count": null,
      "outputs": []
    },
    {
      "cell_type": "markdown",
      "source": [
        "### **Running Logistic regression model**"
      ],
      "metadata": {
        "id": "Ry8Pfla-jXP2"
      }
    },
    {
      "cell_type": "code",
      "source": [
        "b_0 = 0.4\n",
        "b_1 = 0.4\n",
        "b_2 = 0.4\n",
        "alpha = 0.009\n",
        "accuracy = np.empty(100)\n",
        "\n",
        "accuracy, prediction, b_0, b_1, b_2 = gradient_descent(petal_dimensions_train, flower_type_train, b_0, b_1, b_2, alpha)"
      ],
      "metadata": {
        "colab": {
          "base_uri": "https://localhost:8080/"
        },
        "id": "Ep9lcD6NjWst",
        "outputId": "74f7947a-6446-46ed-b119-fa48e31ba1ef"
      },
      "execution_count": null,
      "outputs": [
        {
          "output_type": "stream",
          "name": "stdout",
          "text": [
            "After Iteration 1 Accuracy is 50.0\n",
            "After Iteration 2 Accuracy is 50.0\n",
            "After Iteration 3 Accuracy is 50.0\n",
            "After Iteration 4 Accuracy is 50.0\n",
            "After Iteration 5 Accuracy is 50.0\n",
            "After Iteration 6 Accuracy is 50.0\n",
            "After Iteration 7 Accuracy is 50.0\n",
            "After Iteration 8 Accuracy is 50.0\n",
            "After Iteration 9 Accuracy is 50.0\n",
            "After Iteration 10 Accuracy is 50.0\n",
            "After Iteration 11 Accuracy is 50.0\n",
            "After Iteration 12 Accuracy is 50.0\n",
            "After Iteration 13 Accuracy is 50.0\n",
            "After Iteration 14 Accuracy is 50.0\n",
            "After Iteration 15 Accuracy is 50.0\n",
            "After Iteration 16 Accuracy is 50.0\n",
            "After Iteration 17 Accuracy is 50.0\n",
            "After Iteration 18 Accuracy is 51.25\n",
            "After Iteration 19 Accuracy is 52.5\n",
            "After Iteration 20 Accuracy is 53.75\n",
            "After Iteration 21 Accuracy is 60.0\n",
            "After Iteration 22 Accuracy is 72.5\n",
            "After Iteration 23 Accuracy is 78.75\n",
            "After Iteration 24 Accuracy is 85.0\n",
            "After Iteration 25 Accuracy is 88.75\n",
            "After Iteration 26 Accuracy is 90.0\n",
            "After Iteration 27 Accuracy is 91.25\n",
            "After Iteration 28 Accuracy is 92.5\n",
            "After Iteration 29 Accuracy is 93.75\n",
            "After Iteration 30 Accuracy is 95.0\n",
            "After Iteration 31 Accuracy is 95.0\n",
            "After Iteration 32 Accuracy is 96.25\n",
            "After Iteration 33 Accuracy is 97.5\n",
            "After Iteration 34 Accuracy is 97.5\n",
            "After Iteration 35 Accuracy is 97.5\n",
            "After Iteration 36 Accuracy is 97.5\n",
            "After Iteration 37 Accuracy is 97.5\n",
            "After Iteration 38 Accuracy is 97.5\n",
            "After Iteration 39 Accuracy is 98.75\n",
            "After Iteration 40 Accuracy is 98.75\n",
            "After Iteration 41 Accuracy is 98.75\n",
            "After Iteration 42 Accuracy is 98.75\n",
            "After Iteration 43 Accuracy is 100.0\n",
            "After Iteration 44 Accuracy is 100.0\n",
            "After Iteration 45 Accuracy is 100.0\n",
            "After Iteration 46 Accuracy is 100.0\n",
            "After Iteration 47 Accuracy is 100.0\n",
            "After Iteration 48 Accuracy is 100.0\n",
            "After Iteration 49 Accuracy is 100.0\n",
            "After Iteration 50 Accuracy is 100.0\n",
            "After Iteration 51 Accuracy is 100.0\n",
            "After Iteration 52 Accuracy is 100.0\n",
            "After Iteration 53 Accuracy is 100.0\n",
            "After Iteration 54 Accuracy is 100.0\n",
            "After Iteration 55 Accuracy is 100.0\n",
            "After Iteration 56 Accuracy is 100.0\n",
            "After Iteration 57 Accuracy is 100.0\n",
            "After Iteration 58 Accuracy is 100.0\n",
            "After Iteration 59 Accuracy is 100.0\n",
            "After Iteration 60 Accuracy is 100.0\n",
            "After Iteration 61 Accuracy is 100.0\n",
            "After Iteration 62 Accuracy is 100.0\n",
            "After Iteration 63 Accuracy is 100.0\n",
            "After Iteration 64 Accuracy is 100.0\n",
            "After Iteration 65 Accuracy is 100.0\n",
            "After Iteration 66 Accuracy is 100.0\n",
            "After Iteration 67 Accuracy is 100.0\n",
            "After Iteration 68 Accuracy is 100.0\n",
            "After Iteration 69 Accuracy is 100.0\n",
            "After Iteration 70 Accuracy is 100.0\n",
            "After Iteration 71 Accuracy is 100.0\n",
            "After Iteration 72 Accuracy is 100.0\n",
            "After Iteration 73 Accuracy is 100.0\n",
            "After Iteration 74 Accuracy is 100.0\n",
            "After Iteration 75 Accuracy is 100.0\n",
            "After Iteration 76 Accuracy is 100.0\n",
            "After Iteration 77 Accuracy is 100.0\n",
            "After Iteration 78 Accuracy is 100.0\n",
            "After Iteration 79 Accuracy is 100.0\n",
            "After Iteration 80 Accuracy is 100.0\n",
            "After Iteration 81 Accuracy is 100.0\n",
            "After Iteration 82 Accuracy is 100.0\n",
            "After Iteration 83 Accuracy is 100.0\n",
            "After Iteration 84 Accuracy is 100.0\n",
            "After Iteration 85 Accuracy is 100.0\n",
            "After Iteration 86 Accuracy is 100.0\n",
            "After Iteration 87 Accuracy is 100.0\n",
            "After Iteration 88 Accuracy is 100.0\n",
            "After Iteration 89 Accuracy is 100.0\n",
            "After Iteration 90 Accuracy is 100.0\n",
            "After Iteration 91 Accuracy is 100.0\n",
            "After Iteration 92 Accuracy is 100.0\n",
            "After Iteration 93 Accuracy is 100.0\n",
            "After Iteration 94 Accuracy is 100.0\n",
            "After Iteration 95 Accuracy is 100.0\n",
            "After Iteration 96 Accuracy is 100.0\n",
            "After Iteration 97 Accuracy is 100.0\n",
            "After Iteration 98 Accuracy is 100.0\n",
            "After Iteration 99 Accuracy is 100.0\n",
            "After Iteration 100 Accuracy is 100.0\n"
          ]
        }
      ]
    },
    {
      "cell_type": "markdown",
      "source": [
        "### **Plotting graph of iteration and accuracy during training**"
      ],
      "metadata": {
        "id": "FSsZLzcbwmjT"
      }
    },
    {
      "cell_type": "code",
      "source": [
        "plt.plot(np.arange(0,100), accuracy[0:100])\n",
        "plt.title(\"Accuracy vs. Iteration\");\n",
        "plt.ylabel('Accuracy')\n",
        "plt.xlabel('Iteration')\n",
        "\n",
        "plt.show()"
      ],
      "metadata": {
        "colab": {
          "base_uri": "https://localhost:8080/",
          "height": 295
        },
        "id": "d7ujNYSFmrb2",
        "outputId": "4ddfc510-b919-4af4-c68c-00aa066c4db9"
      },
      "execution_count": null,
      "outputs": [
        {
          "output_type": "display_data",
          "data": {
            "text/plain": [
              "<Figure size 432x288 with 1 Axes>"
            ],
            "image/png": "[encoded data removed]"
          },
          "metadata": {
            "needs_background": "light"
          }
        }
      ]
    },
    {
      "cell_type": "code",
      "source": [
        "print(f\"Weights after training are : b0 = {b_0}, b1 = {b_1} and b2 = {b_2}\")"
      ],
      "metadata": {
        "colab": {
          "base_uri": "https://localhost:8080/"
        },
        "id": "xD0fY2Knw9UF",
        "outputId": "0f723345-95d9-46ff-9a93-ecd9f408241b"
      },
      "execution_count": null,
      "outputs": [
        {
          "output_type": "stream",
          "name": "stdout",
          "text": [
            "Weights after training are : b0 = -1.8773757219314575, b1 = 0.4723779857158661 and b2 = 1.1501737833023071\n"
          ]
        }
      ]
    },
    {
      "cell_type": "markdown",
      "source": [
        "### **Testing the trained model on test data**"
      ],
      "metadata": {
        "id": "ylCZZ-oIIzF9"
      }
    },
    {
      "cell_type": "code",
      "source": [
        "m, n = petal_dimensions_test.shape\n",
        "predicted_result = np.empty(m)\n",
        "for j in range(m):\n",
        "    prediction[j] = compute_output(petal_dimensions_test[j][0], petal_dimensions_test[j][1], b_0, b_1, b_2)\n",
        "\n",
        "    if prediction[j] >= 0.5:\n",
        "      predicted_result[j] = 1\n",
        "    else:\n",
        "      predicted_result[j] = 0\n",
        "\n",
        "correct_predictions = 0\n",
        "for k in range(m):\n",
        "  if predicted_result[k] == flower_type_test[k]:\n",
        "    correct_predictions += 1\n",
        "\n",
        "accuracy = (correct_predictions * 100) / len(predicted_result)\n",
        "print(f\"The Accuracy for test data is {accuracy}\")"
      ],
      "metadata": {
        "id": "yvMjxj7h12J_",
        "colab": {
          "base_uri": "https://localhost:8080/"
        },
        "outputId": "5d643ea0-b57d-4c67-aacc-d745ca5398b4"
      },
      "execution_count": null,
      "outputs": [
        {
          "output_type": "stream",
          "name": "stdout",
          "text": [
            "The Accuracy for test data is 100.0\n"
          ]
        }
      ]
    }
  ]
}